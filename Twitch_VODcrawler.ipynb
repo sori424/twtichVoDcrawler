{
 "cells": [
  {
   "cell_type": "code",
   "execution_count": 2,
   "metadata": {},
   "outputs": [],
   "source": [
    "from selenium import webdriver\n",
    "from bs4 import BeautifulSoup\n",
    "from selenium.webdriver.support.select import Select\n",
    "\n",
    "import csv\n",
    "import re"
   ]
  },
  {
   "cell_type": "code",
   "execution_count": 3,
   "metadata": {},
   "outputs": [],
   "source": [
    "#streamer most followed 100 이름, url 받아오기\n",
    "driver = webdriver.Chrome('D:\\chromedriver_win32\\chromedriver')\n",
    "urldic = {}\n",
    "    \n",
    "for i in range(1,3):\n",
    "    driver.get('https://www.twitchmetrics.net/channels/follower?page='+str(i))\n",
    "    html = driver.page_source\n",
    "    soup = BeautifulSoup(html,'html.parser')\n",
    "    streamers = soup.find_all(\"div\", {\"class\": \"d-flex mb-2 flex-wrap\"})\n",
    "    for streamer in streamers:\n",
    "        tag = streamer.find('a')\n",
    "        urldic[tag.find('h5').text] = tag.get('href')\n",
    "\n"
   ]
  },
  {
   "cell_type": "code",
   "execution_count": 10,
   "metadata": {},
   "outputs": [],
   "source": [
    "# streams url 에서 watchVOD url 받아오기\n",
    "streamDic = {}\n",
    "for name in urldic:\n",
    "    try:\n",
    "        onestreamerlist = []\n",
    "        driver.get('https://www.twitchmetrics.net'+ urldic[name] + '/streams')\n",
    "        html = driver.page_source\n",
    "        soup = BeautifulSoup(html,'html.parser')\n",
    "\n",
    "        videos = soup.find_all(\"div\",{\"class\":\"d-flex mb-2 text-muted\"})\n",
    "        for video in videos:\n",
    "            tag = video.find('a')\n",
    "            temp = tag.get('href')\n",
    "        #받아온 url cmd tcp 처리를 위한 숫자 받아오기\n",
    "            address = int(re.findall('\\d+',temp)[0])\n",
    "            onestreamerlist.append(address)\n",
    "        streamDic[name] = onestreamerlist\n",
    "\n",
    "    except AttributeError as e:\n",
    "        pass"
   ]
  },
  {
   "cell_type": "code",
   "execution_count": null,
   "metadata": {},
   "outputs": [],
   "source": [
    "import os,sys\n",
    "\n",
    "for streamer in streamDic:\n",
    "    twitchCMD = \"tcd --video\"+ streamer +\" --format irc --output /d/HCI/project2\"\n",
    "    os.system(twitchCMCD)"
   ]
  },
  {
   "cell_type": "code",
   "execution_count": 16,
   "metadata": {},
   "outputs": [],
   "source": [
    "#csv 작성\n",
    "with open('streamerVOD(1).csv','w')as f:\n",
    "    for key in streamDic.keys():\n",
    "        value = ','.join(map(str,streamDic[key]))\n",
    "        f.write(\"%s,%s\\n\"%(key,value))\n"
   ]
  }
 ],
 "metadata": {
  "kernelspec": {
   "display_name": "Python 3",
   "language": "python",
   "name": "python3"
  },
  "language_info": {
   "codemirror_mode": {
    "name": "ipython",
    "version": 3
   },
   "file_extension": ".py",
   "mimetype": "text/x-python",
   "name": "python",
   "nbconvert_exporter": "python",
   "pygments_lexer": "ipython3",
   "version": "3.7.0"
  }
 },
 "nbformat": 4,
 "nbformat_minor": 2
}
